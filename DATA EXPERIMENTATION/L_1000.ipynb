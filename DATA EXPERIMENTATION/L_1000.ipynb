{
 "cells": [
  {
   "cell_type": "code",
   "execution_count": 66,
   "metadata": {},
   "outputs": [],
   "source": [
    "import pandas as pd\n",
    "import seaborn as sns\n",
    "import matplotlib.pyplot as plt\n",
    "import warnings\n",
    "import plotly.express as px\n",
    "import plotly.graph_objects as go\n",
    "import os\n",
    "import numpy as np"
   ]
  },
  {
   "cell_type": "markdown",
   "metadata": {},
   "source": [
    "# INPUT FILE NAME"
   ]
  },
  {
   "cell_type": "code",
   "execution_count": 67,
   "metadata": {},
   "outputs": [],
   "source": [
    "sim_name = \"Simulation 1\""
   ]
  },
  {
   "cell_type": "markdown",
   "metadata": {},
   "source": [
    "# Aggregate All Runs Into One File"
   ]
  },
  {
   "cell_type": "code",
   "execution_count": 68,
   "metadata": {},
   "outputs": [],
   "source": [
    "# directory = \"/Users/richardeli/Downloads/USYD/Thesis/Data Generated/Window/Last_1000/\"\n",
    "# output_path = \"/Users/richardeli/Downloads/USYD/Thesis/Data Generated/Data Generated/Last_1000_Summary_with_STD.csv\"\n",
    "# df = pd.read_csv(f\"/Users/richardeli/Downloads/USYD/Thesis/Data Generated/Simulation/{sim_name}.csv\")\n",
    "\n",
    "# directory = \"C:\\\\Users\\\\Ricky\\\\Documents\\\\GitHub\\\\Thesis\\\\Data Generated\\\\Last_1000\\\\\"\n",
    "# output_path = \"C:\\\\Users\\\\Ricky\\\\Documents\\\\GitHub\\\\Thesis\\\\Data Generated\\\\Last_1000_Summary_with_STD.csv\"\n",
    "# df = pd.read_csv(f\"C:\\\\Users\\\\Ricky\\\\Documents\\\\GitHub\\\\Thesis\\\\Data Generated\\\\Simulation\\\\{sim_name}.csv\")\n",
    "\n",
    "# column_names = [\n",
    "#     'Trade Number', 'Market Price', 'Excess Demand', 'Speculator Proportion',\n",
    "#     'Kurtosis MP', 'Kurtosis ED', 'Kurtosis SP', 'MP Volatility Last 100 Trades',\n",
    "#     'MP Volatility Last 10 Trades', 'Pre-CUSP Market Price Difference', \n",
    "#     'Last 100 Pre-CUSP Market Prices Difference'\n",
    "# ]\n",
    "\n",
    "# # Valid runs from your DataFrame filtering\n",
    "# # df = df[df['Catastrophe Point Found?'] == True]\n",
    "# valid_runs = df['Run Number']\n",
    "\n",
    "# # Initialize lists to hold averaged and std deviation data\n",
    "# averaged_data = []\n",
    "# std_dev_data = []\n",
    "\n",
    "# # Outer loop: Iterate 1000 times, once for each row\n",
    "# for row_index in range(1000):\n",
    "#     row_values = []  \n",
    "\n",
    "#     for run_number in valid_runs:\n",
    "#         filename = f'Run {run_number}.csv'\n",
    "#         file_path = os.path.join(directory, filename)\n",
    "\n",
    "#         try:\n",
    "#             run_df = pd.read_csv(file_path)\n",
    "\n",
    "#             # Check if row_index is within bounds\n",
    "#             if row_index < len(run_df):\n",
    "#                 row_values.append(run_df.iloc[row_index].values)\n",
    "#             else:\n",
    "#                 row_values.append([np.nan] * len(column_names))\n",
    "\n",
    "#         except FileNotFoundError:\n",
    "#             print(f\"File not found: {file_path}\")\n",
    "#             row_values.append([np.nan] * len(column_names))\n",
    "\n",
    "#     # Calculate averages and standard deviations for the row\n",
    "#     row_average = np.nanmean(row_values, axis=0)\n",
    "#     row_std_dev = np.nanstd(row_values, axis=0)  # Calculate standard deviation\n",
    "\n",
    "#     averaged_data.append(row_average)\n",
    "#     std_dev_data.append(row_std_dev)\n",
    "\n",
    "# # Create DataFrames for averaged and standard deviation data\n",
    "# averaged_df = pd.DataFrame(averaged_data, columns=column_names)\n",
    "# std_dev_df = pd.DataFrame(std_dev_data, columns=[f\"{col} STDV\" for col in column_names])\n",
    "\n",
    "# # Combine averaged and std deviation DataFrames\n",
    "# combined_df = pd.concat([averaged_df, std_dev_df], axis=1)\n",
    "\n",
    "# # Save the combined DataFrame to CSV\n",
    "# combined_df.to_csv(output_path, index=False)\n",
    "\n",
    "# print(f\"Averaged window data saved to {output_path}\")"
   ]
  },
  {
   "cell_type": "markdown",
   "metadata": {},
   "source": [
    "# Load New Aggregated Data"
   ]
  },
  {
   "cell_type": "code",
   "execution_count": null,
   "metadata": {},
   "outputs": [],
   "source": [
    "directory = \"C:\\\\Users\\\\Ricky\\\\Documents\\\\GitHub\\\\Thesis\\\\Data Generated\\\\Last_1000_Summary_with_STD.csv\"\n",
    "\n",
    "# directory = \"/Users/richardeli/Downloads/USYD/Thesis/Data Generated/Last_1000_Summary_with_STD.csv\"\n",
    "\n",
    "df = pd.read_csv(directory)\n",
    "\n",
    "#Replace Trade Number so it starts from 1 not 10000\n",
    "df['Trade Number'] = range(1, len(df) + 1)\n",
    "df"
   ]
  },
  {
   "cell_type": "markdown",
   "metadata": {},
   "source": [
    "# Markets Price in Last 1000 Trades Pre-Crash"
   ]
  },
  {
   "cell_type": "code",
   "execution_count": null,
   "metadata": {},
   "outputs": [],
   "source": [
    "trade_number = df['Trade Number']\n",
    "market_price = df['Market Price']\n",
    "market_price_std = df['Market Price STDV']  # Assuming this column exists\n",
    "\n",
    "# Calculate the upper and lower bounds for the standard deviation\n",
    "upper_bound = market_price + market_price_std\n",
    "lower_bound = market_price - market_price_std\n",
    "\n",
    "# Plotting Market Price over Time\n",
    "plt.figure(figsize=(12, 6))\n",
    "\n",
    "# Plot the market price\n",
    "plt.plot(\n",
    "    trade_number, market_price, \n",
    "    marker='o', linestyle='-', color='b', label='Market Price'\n",
    ")\n",
    "\n",
    "# Fill the area between upper and lower bounds\n",
    "plt.fill_between(trade_number, lower_bound, upper_bound, color='lightblue', alpha=0.5, label='Standard Deviation Area')\n",
    "\n",
    "plt.xlabel('Trade Number', fontsize=14)\n",
    "plt.ylabel('Market Price', fontsize=14)\n",
    "plt.title('Market Price Over Time', fontsize=16)\n",
    "plt.grid(True, which='both', linestyle='--', linewidth=0.7, alpha=0.7)\n",
    "plt.legend()\n",
    "plt.show()\n"
   ]
  },
  {
   "cell_type": "markdown",
   "metadata": {},
   "source": [
    "# Excess Demand In Last 1000 trades pre catastrophe"
   ]
  },
  {
   "cell_type": "code",
   "execution_count": null,
   "metadata": {},
   "outputs": [],
   "source": [
    "trade_number = df['Trade Number']\n",
    "excess_demand = df['Excess Demand']\n",
    "excess_demand_std = df['Excess Demand STDV']  # Assuming this column exists\n",
    "\n",
    "# Calculate the upper and lower bounds for the standard deviation\n",
    "upper_bound = excess_demand + excess_demand_std\n",
    "lower_bound = excess_demand - excess_demand_std\n",
    "\n",
    "# Plotting Excess Demand over Time\n",
    "plt.figure(figsize=(12, 6))\n",
    "\n",
    "# Plot the excess demand\n",
    "plt.plot(\n",
    "    trade_number, excess_demand, \n",
    "    marker='o', linestyle='-', color='r', label='Excess Demand'\n",
    ")\n",
    "\n",
    "# Fill the area between upper and lower bounds\n",
    "plt.fill_between(trade_number, lower_bound, upper_bound, color='lightcoral', alpha=0.5, label='Standard Deviation Area')\n",
    "\n",
    "plt.xlabel('Trade Number', fontsize=14)\n",
    "plt.ylabel('Excess Demand', fontsize=14)\n",
    "plt.title('Excess Demand Over Time', fontsize=16)\n",
    "plt.grid(True, which='both', linestyle='--', linewidth=0.7, alpha=0.7)\n",
    "plt.legend()\n",
    "plt.show()\n"
   ]
  },
  {
   "cell_type": "markdown",
   "metadata": {},
   "source": [
    "# Correlation Matrix"
   ]
  },
  {
   "cell_type": "code",
   "execution_count": null,
   "metadata": {},
   "outputs": [],
   "source": [
    "df_2 = df.copy()\n",
    "corr_cols = [\n",
    "    'Market Price', 'Speculator Proportion', 'Excess Demand', 'MP Volatility Last 100 Trades', \n",
    "    'MP Volatility Last 10 Trades', 'Pre-CUSP Market Price Difference', 'Last 100 Pre-CUSP Market Prices Difference'\n",
    "]\n",
    "\n",
    "# df_2 = df_2[columns_of_interest]\n",
    "df_2 = df_2[corr_cols]\n",
    "corr_matrix = df_2.corr()\n",
    "corr_matrix\n",
    "plt.figure(figsize=(12, 8))\n",
    "sns.heatmap(\n",
    "    corr_matrix, \n",
    "    annot=True, \n",
    "    cmap='viridis', \n",
    "    center=0, \n",
    "    linewidths=0.3, \n",
    "    cbar_kws={\"shrink\": 0.8, \"aspect\": 30},  \n",
    "    annot_kws={\"size\": 10}, \n",
    ")\n",
    "plt.title('Correlation Matrix Heatmap', fontsize=18, weight='bold', pad=15)\n",
    "plt.xticks(rotation=45, ha='right') \n",
    "plt.yticks(rotation=0) \n",
    "plt.tight_layout()\n",
    "plt.show()"
   ]
  },
  {
   "cell_type": "markdown",
   "metadata": {},
   "source": [
    "# Determining Volatilty Values; Last 10, Last 100"
   ]
  },
  {
   "cell_type": "code",
   "execution_count": null,
   "metadata": {},
   "outputs": [],
   "source": [
    "df_1 = df.copy()\n",
    "df_1['Returns'] = df_1['Market Price'].pct_change()\n",
    "\n",
    "# Calculate rolling volatility for every 10 and 100 trades\n",
    "df_1['Volatility_10'] = df_1['Returns'].rolling(window=10).std()  # 10 trades\n",
    "df_1['Volatility_100'] = df_1['Returns'].rolling(window=100).std()  # 100 trades\n",
    "\n",
    "df_1"
   ]
  },
  {
   "cell_type": "code",
   "execution_count": null,
   "metadata": {},
   "outputs": [],
   "source": [
    "plt.figure(figsize=(14, 7))\n",
    "plt.plot(df_1['Trade Number'], df_1['Volatility_10'], label='Volatility (10 trades)', color='blue')\n",
    "plt.plot(df_1['Trade Number'], df_1['Volatility_100'], label='Volatility (100 trades)', color='orange')\n",
    "\n",
    "# Adding labels and title\n",
    "plt.title('Rolling Volatility of Market Prices')\n",
    "plt.xlabel('Trade Number')\n",
    "plt.ylabel('Volatility')\n",
    "plt.legend()\n",
    "plt.grid()\n",
    "\n",
    "# Show plot\n",
    "plt.show()"
   ]
  },
  {
   "cell_type": "markdown",
   "metadata": {},
   "source": [
    "# Volatility Group By Speculator Proportion"
   ]
  },
  {
   "cell_type": "code",
   "execution_count": null,
   "metadata": {},
   "outputs": [],
   "source": [
    "df_2 = df.copy() \n",
    "\n",
    "df_2['Returns'] = df_2['Market Price'].pct_change()\n",
    "volatility_grouped = df_2.groupby('Speculator Proportion')['Returns'].std().reset_index()\n",
    "volatility_grouped.columns = ['Speculator Proportion', 'Volatility']\n",
    "volatility_grouped"
   ]
  }
 ],
 "metadata": {
  "kernelspec": {
   "display_name": "Python 3",
   "language": "python",
   "name": "python3"
  },
  "language_info": {
   "codemirror_mode": {
    "name": "ipython",
    "version": 3
   },
   "file_extension": ".py",
   "mimetype": "text/x-python",
   "name": "python",
   "nbconvert_exporter": "python",
   "pygments_lexer": "ipython3",
   "version": "3.9.0"
  }
 },
 "nbformat": 4,
 "nbformat_minor": 2
}
