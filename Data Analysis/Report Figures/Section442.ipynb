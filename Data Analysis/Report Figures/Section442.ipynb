{
 "cells": [
  {
   "cell_type": "code",
   "execution_count": null,
   "metadata": {},
   "outputs": [],
   "source": [
    "import pandas as pd\n",
    "import os\n",
    "import matplotlib.pyplot as plt"
   ]
  },
  {
   "cell_type": "code",
   "execution_count": null,
   "metadata": {},
   "outputs": [],
   "source": [
    "# directory = \"/Users/richardeli/Downloads/USYD/Thesis/Data Generated/Simulation/\"\n",
    "directory = \"C:\\\\Users\\\\Ricky\\\\Documents\\\\GitHub\\\\Thesis\\\\Data Generated\\\\Simulation\\\\\"\n",
    "\n",
    "file_names = [\n",
    "    os.path.splitext(f)[0] for f in os.listdir(directory) if os.path.isfile(os.path.join(directory, f))\n",
    "]"
   ]
  }
 ],
 "metadata": {
  "kernelspec": {
   "display_name": "Python 3",
   "language": "python",
   "name": "python3"
  },
  "language_info": {
   "name": "python",
   "version": "3.9.0"
  }
 },
 "nbformat": 4,
 "nbformat_minor": 2
}
