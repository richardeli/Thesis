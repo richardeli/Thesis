{
 "cells": [
  {
   "cell_type": "code",
   "execution_count": 194,
   "metadata": {},
   "outputs": [],
   "source": [
    "import pandas as pd\n",
    "import seaborn as sns\n",
    "import matplotlib.pyplot as plt\n",
    "import warnings\n",
    "import plotly.express as px\n",
    "import plotly.graph_objects as go\n",
    "import os\n",
    "import numpy as np\n",
    "from scipy.stats import kurtosis"
   ]
  },
  {
   "cell_type": "markdown",
   "metadata": {},
   "source": [
    "# INPUT SIMULATION NAME"
   ]
  },
  {
   "cell_type": "code",
   "execution_count": 195,
   "metadata": {},
   "outputs": [],
   "source": [
    "sim_name = \"Simulation 1\"\n",
    "out_file_name = \"Windows_with_STD\""
   ]
  },
  {
   "cell_type": "markdown",
   "metadata": {},
   "source": [
    "## Get All Valid Runs From Sim Folder"
   ]
  },
  {
   "cell_type": "code",
   "execution_count": 196,
   "metadata": {},
   "outputs": [],
   "source": [
    "df = pd.read_csv(f\"C:\\\\Users\\\\Ricky\\\\Documents\\\\GitHub\\\\Thesis\\\\Data Generated\\\\Simulation\\\\{sim_name}.csv\")\n",
    "# df = pd.read_csv(f\"/Users/richardeli/Downloads/USYD/Thesis/Data Generated/Simulation/{sim_name}.csv\")\n",
    "\n",
    "df = df[df['Catastrophe Point Found?'] == True]\n",
    "\n",
    "valid_runs = df['Run Number']"
   ]
  },
  {
   "cell_type": "markdown",
   "metadata": {},
   "source": [
    "## Average Every Row For All Valid Files In Window and Output One Summary File Representing Average of All Files"
   ]
  },
  {
   "cell_type": "code",
   "execution_count": 197,
   "metadata": {},
   "outputs": [],
   "source": [
    "#### OLD ITER DON\"T USE\n",
    "\n",
    "\n",
    "# directory = \"/Users/richardeli/Downloads/USYD/Thesis/Data Generated/Window/16/\"\n",
    "# output_path = \"/Users/richardeli/Downloads/USYD/Thesis/Data Generated/Finale_Window_Summary_Act.csv\"\n",
    "\n",
    "# column_names = [\n",
    "#     'Window Num', 'Num Data Points in Row', 'Speculator Proportion', 'Market Price',\n",
    "#     'Excess Demand', 'Kurtosis MP', 'Kurtosis ED', 'Kurtosis SP',\n",
    "#     'MP Volatility Last 100 Trades', 'MP Volatility Last 10 Trades',\n",
    "#     'Overall Sim Volatility', 'Pre-CUSP Market Price Difference',\n",
    "#     'Last 100 Pre-CUSP Market Prices Difference'\n",
    "# ]\n",
    "\n",
    "# averaged_data = []\n",
    "\n",
    "# # Outer loop: Iterate 100 times, once for each row\n",
    "# for row_index in range(100):\n",
    "#     row_values = []  \n",
    "\n",
    "#     for run_number in valid_runs:\n",
    "#         filename = f'Run {run_number}.csv'\n",
    "#         file_path = os.path.join(directory, filename)\n",
    "\n",
    "#         try:\n",
    "#             run_df = pd.read_csv(file_path)\n",
    "\n",
    "#             if 'Speculator Proportion' in run_df.columns:\n",
    "#                 run_df['Speculator Proportion'] = run_df['Speculator Proportion'].str.rstrip('%').astype(float) / 100\n",
    "\n",
    "#             if row_index < len(run_df):\n",
    "#                 row_values.append(run_df.iloc[row_index].values)\n",
    "#             else:\n",
    "#                 row_values.append([np.nan] * len(column_names))\n",
    "\n",
    "#         except FileNotFoundError:\n",
    "#             print(f\"File not found: {file_path}\")\n",
    "#             row_values.append([np.nan] * len(column_names))\n",
    "#     row_average = np.nanmean(row_values, axis=0)\n",
    "#     averaged_data.append(row_average)\n",
    "# averaged_df = pd.DataFrame(averaged_data, columns=column_names)\n",
    "# averaged_df.to_csv(output_path, index=False)\n",
    "\n",
    "# print(f\"Averaged window data saved to {output_path}\")\n"
   ]
  },
  {
   "cell_type": "code",
   "execution_count": 198,
   "metadata": {},
   "outputs": [],
   "source": [
    "# ## USE THIS ONE NEW ITER AND GETS STANDARD DEVIATION\n",
    "\n",
    "# directory = f\"C:\\\\Users\\\\Ricky\\\\Documents\\\\GitHub\\\\Thesis\\\\Data Generated\\\\Window\\\\{sim_name}\"\n",
    "# output_path = \"C:\\\\Users\\\\Ricky\\\\Documents\\\\GitHub\\\\Thesis\\\\Data Generated\\\\Windows_with_STD.csv\"\n",
    "\n",
    "# # directory = f\"/Users/richardeli/Downloads/USYD/Thesis/Data Generated/Window/{sim_name}/\"\n",
    "# # output_path = \"/Users/richardeli/Downloads/USYD/Thesis/Data Generated/Windows_with_STD.csv\"\n",
    "\n",
    "# column_names = [\n",
    "#     'Window Num', 'Num Data Points in Row', 'Speculator Proportion', 'Market Price',\n",
    "#     'Excess Demand', 'Kurtosis MP', 'Kurtosis ED', 'Kurtosis SP',\n",
    "#     'MP Volatility Last 100 Trades', 'MP Volatility Last 10 Trades',\n",
    "#     'Overall Sim Volatility', 'Pre-CUSP Market Price Difference',\n",
    "#     'Last 100 Pre-CUSP Market Prices Difference'\n",
    "# ]\n",
    "\n",
    "# averaged_data = []\n",
    "# std_dev_data = []\n",
    "\n",
    "# for row_index in range(100):\n",
    "#     row_values = []  \n",
    "\n",
    "#     for run_number in valid_runs:\n",
    "#         filename = f'Run {run_number}.csv'\n",
    "#         file_path = os.path.join(directory, filename)\n",
    "\n",
    "#         try:\n",
    "#             run_df = pd.read_csv(file_path)\n",
    "\n",
    "#             if 'Speculator Proportion' in run_df.columns:\n",
    "#                 run_df['Speculator Proportion'] = run_df['Speculator Proportion'].str.rstrip('%').astype(float) / 100\n",
    "\n",
    "#             if row_index < len(run_df):\n",
    "#                 row_values.append(run_df.iloc[row_index].values)\n",
    "#             else:\n",
    "#                 row_values.append([np.nan] * len(column_names))\n",
    "\n",
    "#         except FileNotFoundError:\n",
    "#             print(f\"File not found: {file_path}\")\n",
    "#             row_values.append([np.nan] * len(column_names))\n",
    "    \n",
    "#     row_average = np.nanmean(row_values, axis=0)\n",
    "#     row_std_dev = np.nanstd(row_values, axis=0)  # Calculate standard deviation\n",
    "    \n",
    "#     averaged_data.append(row_average)\n",
    "#     std_dev_data.append(row_std_dev)\n",
    "\n",
    "# std_dev_df = pd.DataFrame(std_dev_data, columns=column_names)\n",
    "# std_dev_df.columns = [f\"{col} STDV\" for col in std_dev_df.columns]\n",
    "# std_dev_df\n",
    "\n",
    "# averaged_df = pd.DataFrame(averaged_data, columns=column_names)\n",
    "# averaged_df\n",
    "\n",
    "# combined_df = pd.DataFrame()\n",
    "# for avg_col, std_col in zip(averaged_df.columns, std_dev_df.columns):\n",
    "#     combined_df[avg_col] = averaged_df[avg_col]\n",
    "#     combined_df[std_col] = std_dev_df[std_col]\n",
    "\n",
    "# combined_df.to_csv(output_path, index=False)"
   ]
  },
  {
   "cell_type": "markdown",
   "metadata": {},
   "source": [
    "# Load Data"
   ]
  },
  {
   "cell_type": "code",
   "execution_count": 199,
   "metadata": {},
   "outputs": [],
   "source": [
    "df = pd.read_csv(f\"C:\\\\Users\\\\Ricky\\\\Documents\\\\GitHub\\\\Thesis\\\\Data Generated\\\\{out_file_name}.csv\")\n",
    "# df = pd.read_csv(f\"/Users/richardeli/Downloads/USYD/Thesis/Data Generated/{out_file_name}.csv\")\n",
    "df['Window Num'] = df['Window Num'] + 1\n",
    "df['Speculator Proportion'] = df['Speculator Proportion'] * 100\n",
    "df\n",
    "\n",
    "columns_of_interest = [\n",
    "    'Speculator Proportion', 'Market Price', 'Excess Demand', 'Kurtosis MP', \n",
    "    'Kurtosis ED', 'Kurtosis SP', 'MP Volatility Last 100 Trades', \n",
    "    'MP Volatility Last 10 Trades', 'Overall Sim Volatility', \n",
    "    'Pre-CUSP Market Price Difference', 'Last 100 Pre-CUSP Market Prices Difference'\n",
    "]"
   ]
  },
  {
   "cell_type": "markdown",
   "metadata": {},
   "source": [
    "# 1. Understanding the Data"
   ]
  },
  {
   "cell_type": "markdown",
   "metadata": {},
   "source": [
    "## 1.1 Data Table"
   ]
  },
  {
   "cell_type": "code",
   "execution_count": null,
   "metadata": {},
   "outputs": [],
   "source": [
    "df_1 = df.copy()\n",
    "\n",
    "df_1.describe()"
   ]
  },
  {
   "cell_type": "markdown",
   "metadata": {},
   "source": [
    "# 1.2 Boxplot of Attributes"
   ]
  },
  {
   "cell_type": "code",
   "execution_count": null,
   "metadata": {},
   "outputs": [],
   "source": [
    "colors = sns.color_palette('husl', len(columns_of_interest)) \n",
    "\n",
    "n_cols = 3  \n",
    "n_rows = (len(columns_of_interest) + n_cols - 1) // n_cols  \n",
    "\n",
    "fig, axes = plt.subplots(n_rows, n_cols, figsize=(15, 10)) \n",
    "axes = axes.flatten()  \n",
    "\n",
    "for i, column in enumerate(columns_of_interest):\n",
    "    sns.boxplot(data=df, y=column, ax=axes[i], color=colors[i])  \n",
    "    axes[i].set_title(column) \n",
    "    axes[i].set_xlabel('')  \n",
    "    axes[i].set_ylabel('Value')  \n",
    "\n",
    "for j in range(i + 1, len(axes)):\n",
    "    fig.delaxes(axes[j])\n",
    "\n",
    "plt.tight_layout()\n",
    "plt.show()"
   ]
  },
  {
   "cell_type": "markdown",
   "metadata": {},
   "source": [
    "## FIGURE 39 1.3 Correlation Matrix"
   ]
  },
  {
   "cell_type": "code",
   "execution_count": null,
   "metadata": {},
   "outputs": [],
   "source": [
    "df_2 = df.copy()\n",
    "corr_cols = [\n",
    "    'Market Price', 'Speculator Proportion', 'Excess Demand', 'Kurtosis MP', \n",
    "    'Kurtosis ED', 'MP Volatility Last 100 Trades', \n",
    "    'MP Volatility Last 10 Trades', 'Overall Sim Volatility', \n",
    "    'Pre-CUSP Market Price Difference', 'Last 100 Pre-CUSP Market Prices Difference'\n",
    "]\n",
    "\n",
    "# df_2 = df_2[columns_of_interest]\n",
    "df_2 = df_2[corr_cols]\n",
    "corr_matrix = df_2.corr()\n",
    "corr_matrix\n",
    "plt.figure(figsize=(12, 8))\n",
    "sns.heatmap(\n",
    "    corr_matrix, \n",
    "    annot=True, \n",
    "    cmap='viridis', \n",
    "    center=0, \n",
    "    linewidths=0.3, \n",
    "    cbar_kws={\"shrink\": 0.8, \"aspect\": 30},  \n",
    "    annot_kws={\"size\": 10}, \n",
    ")\n",
    "plt.title('Correlation Matrix Heatmap', fontsize=18, weight='bold', pad=15)\n",
    "plt.xticks(rotation=45, ha='right') \n",
    "plt.yticks(rotation=0) \n",
    "plt.tight_layout()\n",
    "plt.show()"
   ]
  },
  {
   "cell_type": "markdown",
   "metadata": {},
   "source": [
    "# 2. Speculator Proportion Analysis Time"
   ]
  },
  {
   "cell_type": "markdown",
   "metadata": {},
   "source": [
    "## FIGURE 40 - 2.1 Market Price"
   ]
  },
  {
   "cell_type": "code",
   "execution_count": null,
   "metadata": {},
   "outputs": [],
   "source": [
    "# Grouping by Speculator Proportion to get Mean and Standard Deviation\n",
    "df_5 = df.copy()\n",
    "\n",
    "grouped_df_1 = df_5.groupby('Speculator Proportion').agg(\n",
    "    Mean_Market_Price=('Market Price', 'mean'),\n",
    "    Market_Price_STDV=('Market Price STDV', 'mean')\n",
    ").reset_index()\n",
    "\n",
    "# Extracting data for plotting\n",
    "speculator_proportion = grouped_df_1['Speculator Proportion']\n",
    "mean_market_price = grouped_df_1['Mean_Market_Price']\n",
    "market_price_std = grouped_df_1['Market_Price_STDV']\n",
    "\n",
    "# Plotting\n",
    "plt.figure(figsize=(10, 6))\n",
    "\n",
    "# Plot mean market price\n",
    "plt.plot(speculator_proportion, mean_market_price, marker='o', color='b', linestyle='-', label='Mean Market Price')\n",
    "\n",
    "# Fill between for the standard deviation\n",
    "plt.fill_between(speculator_proportion,\n",
    "                 mean_market_price - market_price_std,\n",
    "                 mean_market_price + market_price_std,\n",
    "                 color='blue', alpha=0.2, label='Market Price Std Dev')\n",
    "\n",
    "# Adding labels and title\n",
    "plt.xlabel('Speculator Proportion %', fontsize=14)\n",
    "plt.ylabel('Mean Market Price', fontsize=14)\n",
    "plt.title('Mean Market Price vs Speculator Proportion', fontsize=16)\n",
    "plt.grid(True, which='both', linestyle='--', linewidth=0.7, alpha=0.7)\n",
    "plt.legend()\n",
    "\n",
    "# Show the plot\n",
    "plt.show()\n"
   ]
  },
  {
   "cell_type": "markdown",
   "metadata": {},
   "source": [
    "## FIGURE 41 2.2 Excess Demand"
   ]
  },
  {
   "cell_type": "code",
   "execution_count": null,
   "metadata": {},
   "outputs": [],
   "source": [
    "df_6 = df.copy()\n",
    "\n",
    "grouped_df_excess_demand = df_6.groupby('Speculator Proportion').agg(\n",
    "    Mean_Excess_Demand=('Excess Demand', 'mean'),\n",
    "    Excess_Demand_STDV=('Excess Demand STDV', 'mean')  # Assuming you have a column for STDV\n",
    ").reset_index()\n",
    "\n",
    "# Extracting data for plotting\n",
    "speculator_proportion = grouped_df_excess_demand['Speculator Proportion']\n",
    "mean_excess_demand = grouped_df_excess_demand['Mean_Excess_Demand']\n",
    "excess_demand_std = grouped_df_excess_demand['Excess_Demand_STDV']\n",
    "\n",
    "# Plotting\n",
    "plt.figure(figsize=(10, 6))\n",
    "\n",
    "# Plot mean excess demand\n",
    "plt.plot(speculator_proportion, mean_excess_demand, marker='o', color='b', linestyle='-', label='Mean Excess Demand')\n",
    "\n",
    "# Fill between for the standard deviation\n",
    "plt.fill_between(speculator_proportion,\n",
    "                 mean_excess_demand - excess_demand_std,\n",
    "                 mean_excess_demand + excess_demand_std,\n",
    "                 color='blue', alpha=0.2, label='Excess Demand Std Dev')\n",
    "\n",
    "# Adding labels and title\n",
    "plt.xlabel('Speculator Proportion %', fontsize=14)\n",
    "plt.ylabel('Mean Excess Demand', fontsize=14)\n",
    "plt.title('Mean Excess Demand vs Speculator Proportion', fontsize=16)\n",
    "plt.grid(True, which='both', linestyle='--', linewidth=0.7, alpha=0.7)\n",
    "plt.legend()\n",
    "\n",
    "# Show the plot\n",
    "plt.show()\n"
   ]
  },
  {
   "cell_type": "markdown",
   "metadata": {},
   "source": [
    "## 2.3 Kurtosis Market Price and Excess Demand"
   ]
  },
  {
   "cell_type": "code",
   "execution_count": null,
   "metadata": {},
   "outputs": [],
   "source": [
    "df_7 = df.copy()\n",
    "\n",
    "market_price_kurtosis = kurtosis(df_7['Market Price'], fisher=True)  # Fisher=True gives excess kurtosis\n",
    "excess_demand_kurtosis = kurtosis(df_7['Excess Demand'], fisher=True)\n",
    "\n",
    "print(f\"Kurtosis of Market Price: {market_price_kurtosis}\")\n",
    "print(f\"Kurtosis of Excess Demand: {excess_demand_kurtosis}\")\n",
    "\n",
    "# Plotting\n",
    "plt.figure(figsize=(12, 6))\n",
    "\n",
    "# Market Price Kurtosis\n",
    "plt.subplot(1, 2, 1)\n",
    "plt.hist(df_7['Market Price'], bins=30, alpha=0.7, color='b', edgecolor='black')\n",
    "plt.title(f'Market Price Distribution\\n(Kurtosis: {market_price_kurtosis:.2f})')\n",
    "plt.xlabel('Market Price')\n",
    "plt.ylabel('Frequency')\n",
    "\n",
    "# Excess Demand Kurtosis\n",
    "plt.subplot(1, 2, 2)\n",
    "plt.hist(df_7['Excess Demand'], bins=30, alpha=0.7, color='r', edgecolor='black')\n",
    "plt.title(f'Excess Demand Distribution\\n(Kurtosis: {excess_demand_kurtosis:.2f})')\n",
    "plt.xlabel('Excess Demand')\n",
    "plt.ylabel('Frequency')\n",
    "\n",
    "# Adjust layout and show plot\n",
    "plt.tight_layout()\n",
    "plt.show()\n"
   ]
  },
  {
   "cell_type": "markdown",
   "metadata": {},
   "source": [
    "## 2.4 Volatility (Overall, Last 100 Trades, Last 10 Trades)"
   ]
  },
  {
   "cell_type": "code",
   "execution_count": null,
   "metadata": {},
   "outputs": [],
   "source": [
    "plt.figure(figsize=(12, 7))\n",
    "\n",
    "plt.plot(\n",
    "    df['Speculator Proportion'], df['MP Volatility Last 100 Trades'], \n",
    "    marker='o', linestyle='-', color='b', label='MP Volatility Last 100 Trades'\n",
    ")\n",
    "\n",
    "plt.plot(\n",
    "    df['Speculator Proportion'], df['MP Volatility Last 10 Trades'], \n",
    "    marker='s', linestyle='--', color='g', label='MP Volatility Last 10 Trades'\n",
    ")\n",
    "\n",
    "plt.plot(\n",
    "    df['Speculator Proportion'], df['Overall Sim Volatility'], \n",
    "    marker='^', linestyle='-.', color='r', label='Overall Sim Volatility'\n",
    ")\n",
    "\n",
    "plt.xlabel('Speculator Proportion', fontsize=14)\n",
    "plt.ylabel('Volatility', fontsize=14)\n",
    "plt.title('Volatility Metrics vs Speculator Proportion', fontsize=16)\n",
    "\n",
    "plt.grid(True, which='both', linestyle='--', linewidth=0.7, alpha=0.7)\n",
    "plt.legend()\n",
    "plt.show()\n"
   ]
  },
  {
   "cell_type": "markdown",
   "metadata": {},
   "source": [
    "## Figure 42 2.5 Market Price Difference (Last 100 Trades, Last Trade)"
   ]
  },
  {
   "cell_type": "code",
   "execution_count": null,
   "metadata": {},
   "outputs": [],
   "source": [
    "df_9 = df.copy()\n",
    "\n",
    "speculator_proportion = df_9['Speculator Proportion']\n",
    "mean_price_difference = df_9['Last 100 Pre-CUSP Market Prices Difference']\n",
    "std_price_difference = df_9['Last 100 Pre-CUSP Market Prices Difference STDV']\n",
    "\n",
    "# Plotting\n",
    "plt.figure(figsize=(12, 7))\n",
    "\n",
    "# Plot mean price difference\n",
    "plt.plot(\n",
    "    speculator_proportion, mean_price_difference, \n",
    "    marker='s', linestyle='--', color='g', label='Mean Price Difference'\n",
    ")\n",
    "\n",
    "# Fill the area for standard deviation\n",
    "plt.fill_between(\n",
    "    speculator_proportion,\n",
    "    mean_price_difference - std_price_difference,\n",
    "    mean_price_difference + std_price_difference,\n",
    "    color='g', alpha=0.2, label='±1 Std Dev'\n",
    ")\n",
    "\n",
    "plt.xlabel('Speculator Proportion', fontsize=14)\n",
    "plt.ylabel('Price Difference', fontsize=14)\n",
    "plt.title('Market Price Differences vs Speculator Proportion', fontsize=16)\n",
    "plt.grid(True, which='both', linestyle='--', linewidth=0.7, alpha=0.7)\n",
    "plt.legend()\n",
    "plt.show()\n"
   ]
  },
  {
   "cell_type": "markdown",
   "metadata": {},
   "source": [
    "# Speculator Proportion mean market price as it approaches CUSP"
   ]
  },
  {
   "cell_type": "code",
   "execution_count": null,
   "metadata": {},
   "outputs": [],
   "source": [
    "df[['Speculator Proportion','Last 100 Pre-CUSP Market Prices Difference']]\n",
    "grouped_df = df.groupby('Speculator Proportion')['Last 100 Pre-CUSP Market Prices Difference'].agg(['mean', 'std', 'count']).reset_index()\n",
    "grouped_df"
   ]
  },
  {
   "cell_type": "markdown",
   "metadata": {},
   "source": [
    "# 3. Adhoc"
   ]
  },
  {
   "cell_type": "markdown",
   "metadata": {},
   "source": [
    "## 3.1 Histogram Excess Demand"
   ]
  },
  {
   "cell_type": "code",
   "execution_count": null,
   "metadata": {},
   "outputs": [],
   "source": [
    "plt.figure(figsize=(12, 6))\n",
    "plt.hist(df['Excess Demand'], bins=20, color='purple', alpha=0.7)\n",
    "plt.xlabel('Excess Demand')\n",
    "plt.ylabel('Frequency')\n",
    "plt.title('Distribution of Excess Demand')\n",
    "plt.grid(axis='y', linestyle='--')\n",
    "plt.show()"
   ]
  },
  {
   "cell_type": "markdown",
   "metadata": {},
   "source": [
    "## 3.2 Volatility (Overall, Last 100 Trades, Last 10 Trades)"
   ]
  },
  {
   "cell_type": "code",
   "execution_count": null,
   "metadata": {},
   "outputs": [],
   "source": [
    "plt.figure(figsize=(12, 6))\n",
    "plt.stackplot(df['Window Num'], \n",
    "              df['MP Volatility Last 100 Trades'], \n",
    "              df['MP Volatility Last 10 Trades'], \n",
    "              df['Overall Sim Volatility'], \n",
    "              labels=['Last 100 Trades', 'Last 10 Trades', 'Overall Sim Volatility'],\n",
    "              alpha=0.5)\n",
    "\n",
    "plt.xlabel('Window Num')\n",
    "plt.ylabel('Volatility')\n",
    "plt.title('Stacked Area Plot of Volatilities')\n",
    "plt.legend(loc='upper left')\n",
    "plt.show()\n"
   ]
  },
  {
   "cell_type": "markdown",
   "metadata": {},
   "source": [
    "## 3.3 Bifurcation Row"
   ]
  },
  {
   "cell_type": "code",
   "execution_count": null,
   "metadata": {},
   "outputs": [],
   "source": [
    "last_row = df.iloc[-1]\n",
    "last_row"
   ]
  },
  {
   "cell_type": "code",
   "execution_count": null,
   "metadata": {},
   "outputs": [],
   "source": [
    "###Not that useful \n",
    "\n",
    "# Grouping by MP Volatility Last 100 Trades to get Mean and Standard Deviation\n",
    "grouped_df_volatility = df.groupby('MP Volatility Last 100 Trades').agg(\n",
    "    Mean_Market_Price=('Market Price', 'mean'),\n",
    "    Market_Price_STDV=('Market Price STDV', 'mean'),\n",
    "    Window_Num=('Window Num', 'mean')  # Use the mean Window Num for color coding\n",
    ").reset_index()\n",
    "\n",
    "# Extracting data for plotting\n",
    "mp_volatility_last_100_trades = grouped_df_volatility['MP Volatility Last 100 Trades']\n",
    "mean_market_price = grouped_df_volatility['Mean_Market_Price']\n",
    "market_price_std = grouped_df_volatility['Market_Price_STDV']\n",
    "window_num = grouped_df_volatility['Window_Num']\n",
    "\n",
    "mp_volatility_last_100_trades\n",
    "points = np.array([mp_volatility_last_100_trades, mean_market_price]).T.reshape(-1, 1, 2)\n",
    "segments = np.concatenate([points[:-1], points[1:]], axis=1)\n",
    "\n",
    "# Create a color map based on Window Num\n",
    "norm = plt.Normalize(window_num.min(), window_num.max())\n",
    "colors = plt.cm.viridis(norm(window_num))\n",
    "\n",
    "# Plotting with LineCollection for colored segments\n",
    "lc = LineCollection(segments, cmap='viridis', norm=norm, linewidth=2)\n",
    "lc.set_array(window_num)\n",
    "lc.set_linewidth(2)\n",
    "\n",
    "plt.figure(figsize=(10, 6))\n",
    "plt.gca().add_collection(lc)\n",
    "\n",
    "# Add fill between for the standard deviation\n",
    "plt.fill_between(mp_volatility_last_100_trades,\n",
    "                 mean_market_price - market_price_std,\n",
    "                 mean_market_price + market_price_std,\n",
    "                 color='blue', alpha=0.2, label='Market Price Std Dev')\n",
    "\n",
    "# Adding labels and title\n",
    "plt.xlabel('MP Volatility Last 100 Trades', fontsize=14)\n",
    "plt.ylabel('Mean Market Price', fontsize=14)\n",
    "plt.title('Mean Market Price vs MP Volatility Last 100 Trades', fontsize=16)\n",
    "\n",
    "# Set limits and grid\n",
    "plt.xlim(mp_volatility_last_100_trades.min(), mp_volatility_last_100_trades.max())\n",
    "plt.ylim(mean_market_price.min() - market_price_std.max(), mean_market_price.max() + market_price_std.max())\n",
    "plt.grid(True, which='both', linestyle='--', linewidth=0.7, alpha=0.7)\n",
    "plt.colorbar(lc, label='Window Num')  # Color bar for Window Num\n",
    "plt.legend()\n",
    "\n",
    "# Show the plot\n",
    "plt.show()\n"
   ]
  }
 ],
 "metadata": {
  "kernelspec": {
   "display_name": "Python 3",
   "language": "python",
   "name": "python3"
  },
  "language_info": {
   "codemirror_mode": {
    "name": "ipython",
    "version": 3
   },
   "file_extension": ".py",
   "mimetype": "text/x-python",
   "name": "python",
   "nbconvert_exporter": "python",
   "pygments_lexer": "ipython3",
   "version": "3.9.0"
  }
 },
 "nbformat": 4,
 "nbformat_minor": 2
}
